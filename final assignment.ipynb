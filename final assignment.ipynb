{
 "cells": [
  {
   "cell_type": "code",
   "execution_count": 1,
   "id": "f6db935b",
   "metadata": {},
   "outputs": [
    {
     "name": "stdout",
     "output_type": "stream",
     "text": [
      "/Users/nathangibson\n"
     ]
    }
   ],
   "source": [
    "# check working directory\n",
    "import os\n",
    "import pandas as pd\n",
    "import matplotlib.pyplot as plt\n",
    "from sklearn.linear_model import LogisticRegression\n",
    "\n",
    "current_directory = os.getcwd()\n",
    "print(current_directory)"
   ]
  },
  {
   "cell_type": "code",
   "execution_count": 2,
   "id": "9708a96b",
   "metadata": {},
   "outputs": [
    {
     "name": "stdout",
     "output_type": "stream",
     "text": [
      "/Users/nathangibson/Downloads\n"
     ]
    }
   ],
   "source": [
    "# change working directory\n",
    "new_dir_path = r'/Users/nathangibson/Downloads'\n",
    "os.chdir(new_dir_path)\n",
    "updated_dir = os.getcwd()\n",
    "print(updated_dir)"
   ]
  },
  {
   "cell_type": "code",
   "execution_count": 3,
   "id": "244a43fb",
   "metadata": {},
   "outputs": [
    {
     "name": "stdout",
     "output_type": "stream",
     "text": [
      "PatientID, Readmission, StaffSatisfaction, CleanlinessSatisfaction, FoodSatisfaction, ComfortSatisfaction, CommunicationSatisfaction\n",
      "101, 1, 4, 5, 3, 4, 5\n",
      "102, 0, 3, 2, 4, 2, 3\n",
      "103, 1, 5, 4, 5, 4, 4\n",
      "104, 0, 5, 3, 5, 4, 5\n",
      "105, 1, 4, 5, 3, 4, 4\n",
      "106, 1, 2, 3, 2, 3, 3\n",
      "107, 0, 3, 2, 3, 4, 3\n",
      "108, 0, 5, 5, 4, 5, 5\n",
      "109, 1, 4, 4, 4, 4, 4\n",
      "110, 0, 3, 3, 3, 4, 3\n",
      "111, 1, 4, 5, 4, 4, 5\n",
      "112, 0, 2, 3, 2, 3, 2\n",
      "113, 1, 3, 4, 3, 4, 3\n",
      "114, 1, 3, 3, 3, 2, 3\n",
      "115, 0, 5, 4, 5, 5, 5\n",
      "116, 1, 4, 3, 4, 4, 4\n",
      "117, 0, 2, 2, 2, 3, 3\n",
      "118, 0, 5, 5, 4, 4, 5\n",
      "119, 1, 4, 4, 4, 4, 4\n",
      "120, 0, 3, 3, 3, 4, 3\n",
      "121, 1, 4, 5, 5, 4, 4\n",
      "122, 1, 3, 4, 4, 4, 3\n",
      "123, 0, 4, 3, 4, 3, 4\n",
      "124, 0, 2, 2, 2, 3, 3\n",
      "125, 1, 3, 4, 3, 4, 3\n",
      "126, 0, 4, 5, 5, 5, 5\n",
      "127, 1, 3, 4, 4, 4, 3\n",
      "128, 0, 4, 3, 4, 3, 4\n",
      "129, 0, 2, 2, 2, 3, 3\n",
      "130, 1, 3, 4, 3, 4, 3\n",
      "131, 1, 4, 5, 3, 4, 5\n",
      "132, 0, 3, 2, 4, 2, 3\n",
      "133, 1, 5, 4, 5, 4, 4\n",
      "134, 0, 5, 3, 5, 4, 5\n",
      "135, 1, 4, 5, 3, 4, 4\n",
      "136, 1, 2, 3, 2, 3, 3\n",
      "137, 0, 3, 2, 3, 4, 3\n",
      "138, 0, 5, 5, 4, 5, 5\n",
      "139, 1, 4, 4, 4, 4, 4\n",
      "140, 0, 3, 3, 3, 4, 3\n",
      "141, 1, 4, 5, 4, 4, 5\n",
      "142, 0, 2, 3, 2, 3, 2\n",
      "143, 1, 3, 4, 3, 4, 3\n",
      "144, 1, 3, 3, 3, 2, 3\n",
      "145, 0, 5, 4, 5, 5, 5\n",
      "146, 1, 4, 3, 4, 4, 4\n",
      "147, 0, 2, 2, 2, 3, 3\n",
      "148, 0, 5, 5, 4, 4, 5\n",
      "149, 1, 4, 4, 4, 4, 4\n",
      "150, 0, 3, 3, 3, 4, 3\n",
      "151, 1, 4, 5, 5, 4, 4\n",
      "152, 1, 3, 4, 4, 4, 3\n",
      "153, 0, 4, 3, 4, 3, 4\n",
      "154, 0, 2, 2, 2, 3, 3\n",
      "155, 1, 3, 4, 3, 4, 3\n",
      "156, 0, 4, 5, 5, 5, 5\n",
      "157, 1, 3, 4, 4, 4, 3\n",
      "158, 0, 4, 3, 4, 3, 4\n",
      "159, 0, 2, 2, 2, 3, 3\n",
      "160, 1, 3, 4, 3, 4, 3\n",
      "161, 1, 4, 5, 3, 4, 5\n",
      "162, 0, 3, 2, 4, 2, 3\n",
      "163, 1, 5, 4, 5, 4, 4\n",
      "164, 0, 5, 3, 5, 4, 5\n",
      "165, 1, 4, 5, 3, 4, 4\n",
      "166, 1, 2, 3, 2, 3, 3\n",
      "167, 0, 3, 2, 3, 4, 3\n",
      "168, 0, 5, 5, 4, 5, 5\n",
      "169, 1, 4, 4, 4, 4, 4\n",
      "170, 0, 3, 3, 3, 4, 3\n",
      "171, 1, 4, 5, 4, 4, 5\n",
      "172, 0, 2, 3, 2, 3, 2\n",
      "173, 1, 3, 4, 3, 4, 3\n",
      "174, 1, 3, 3, 3, 2, 3\n"
     ]
    }
   ],
   "source": [
    "file_path = 'Hospital1.txt'\n",
    "\n",
    "try:\n",
    "    with open(file_path, 'r') as file:\n",
    "        content = file.read()\n",
    "        print(content)\n",
    "except FileNotFoundError:\n",
    "    print(f\"File '{file_path}' not found.\")\n",
    "except IOError:\n",
    "    print(\"An error occured while reading the file.\")"
   ]
  },
  {
   "cell_type": "code",
   "execution_count": 5,
   "id": "6f60b52d",
   "metadata": {},
   "outputs": [],
   "source": [
    "# average age of patients\n",
    "df = pd.read_csv(file_path)"
   ]
  },
  {
   "cell_type": "code",
   "execution_count": 6,
   "id": "a2552c30",
   "metadata": {},
   "outputs": [
    {
     "name": "stdout",
     "output_type": "stream",
     "text": [
      "    PatientID   Readmission   StaffSatisfaction   CleanlinessSatisfaction  \\\n",
      "0         101             1                   4                         5   \n",
      "1         102             0                   3                         2   \n",
      "2         103             1                   5                         4   \n",
      "3         104             0                   5                         3   \n",
      "4         105             1                   4                         5   \n",
      "..        ...           ...                 ...                       ...   \n",
      "69        170             0                   3                         3   \n",
      "70        171             1                   4                         5   \n",
      "71        172             0                   2                         3   \n",
      "72        173             1                   3                         4   \n",
      "73        174             1                   3                         3   \n",
      "\n",
      "     FoodSatisfaction   ComfortSatisfaction   CommunicationSatisfaction  \n",
      "0                   3                     4                           5  \n",
      "1                   4                     2                           3  \n",
      "2                   5                     4                           4  \n",
      "3                   5                     4                           5  \n",
      "4                   3                     4                           4  \n",
      "..                ...                   ...                         ...  \n",
      "69                  3                     4                           3  \n",
      "70                  4                     4                           5  \n",
      "71                  2                     3                           2  \n",
      "72                  3                     4                           3  \n",
      "73                  3                     2                           3  \n",
      "\n",
      "[74 rows x 7 columns]\n"
     ]
    }
   ],
   "source": [
    "print(df)"
   ]
  },
  {
   "cell_type": "code",
   "execution_count": 7,
   "id": "f2489ffc",
   "metadata": {},
   "outputs": [
    {
     "name": "stdout",
     "output_type": "stream",
     "text": [
      "Index(['PatientID', ' Readmission', ' StaffSatisfaction',\n",
      "       ' CleanlinessSatisfaction', ' FoodSatisfaction', ' ComfortSatisfaction',\n",
      "       ' CommunicationSatisfaction'],\n",
      "      dtype='object')\n"
     ]
    }
   ],
   "source": [
    "print(df.columns)"
   ]
  },
  {
   "cell_type": "code",
   "execution_count": 8,
   "id": "e9a3d59b",
   "metadata": {},
   "outputs": [
    {
     "name": "stdout",
     "output_type": "stream",
     "text": [
      "Number of Patients Readmitted: 38\n",
      "Average Staff Satisfaction: 3.5135135135135136\n",
      "Average Cleanliness Satisfaction: 3.608108108108108\n",
      "Average Food Satisfaction: 3.5135135135135136\n",
      "Average Comfort Satisfaction: 3.7162162162162162\n",
      "Average Communication Satisfaction: 3.7027027027027026\n"
     ]
    }
   ],
   "source": [
    "# number of patients readmitted\n",
    "num_pt_readmitted = (df[' Readmission'] == 1).sum()\n",
    "print(f'Number of Patients Readmitted: {num_pt_readmitted}')\n",
    "\n",
    "# average staff satisfaction\n",
    "avg_staff_satisfaction = df[' StaffSatisfaction'].mean()\n",
    "print(f'Average Staff Satisfaction: {avg_staff_satisfaction}')\n",
    "\n",
    "# average cleanliness satisfaction\n",
    "avg_clean_satisfaction = df[' CleanlinessSatisfaction'].mean()\n",
    "print(f'Average Cleanliness Satisfaction: {avg_clean_satisfaction}')\n",
    "\n",
    "# average food satisfaction\n",
    "avg_food_satisfaction = df[' FoodSatisfaction'].mean()\n",
    "print(f'Average Food Satisfaction: {avg_food_satisfaction}')\n",
    "\n",
    "# average comfort satisfaction\n",
    "avg_comfort_satisfaction = df[' ComfortSatisfaction'].mean()\n",
    "print(f'Average Comfort Satisfaction: {avg_comfort_satisfaction}')\n",
    "\n",
    "# average communication satisfaction\n",
    "avg_comm_satisfaction = df[' CommunicationSatisfaction'].mean()\n",
    "print(f'Average Communication Satisfaction: {avg_comm_satisfaction}')"
   ]
  },
  {
   "cell_type": "code",
   "execution_count": 9,
   "id": "917c1268",
   "metadata": {},
   "outputs": [],
   "source": [
    "df[' OverallSatisfaction'] = df[[' StaffSatisfaction',' CleanlinessSatisfaction', ' FoodSatisfaction', ' ComfortSatisfaction',' CommunicationSatisfaction']].mean(axis=1)                                "
   ]
  },
  {
   "cell_type": "code",
   "execution_count": 10,
   "id": "2eff3c60",
   "metadata": {},
   "outputs": [
    {
     "name": "stdout",
     "output_type": "stream",
     "text": [
      "    PatientID   Readmission   StaffSatisfaction   CleanlinessSatisfaction  \\\n",
      "0         101             1                   4                         5   \n",
      "1         102             0                   3                         2   \n",
      "2         103             1                   5                         4   \n",
      "3         104             0                   5                         3   \n",
      "4         105             1                   4                         5   \n",
      "..        ...           ...                 ...                       ...   \n",
      "69        170             0                   3                         3   \n",
      "70        171             1                   4                         5   \n",
      "71        172             0                   2                         3   \n",
      "72        173             1                   3                         4   \n",
      "73        174             1                   3                         3   \n",
      "\n",
      "     FoodSatisfaction   ComfortSatisfaction   CommunicationSatisfaction  \\\n",
      "0                   3                     4                           5   \n",
      "1                   4                     2                           3   \n",
      "2                   5                     4                           4   \n",
      "3                   5                     4                           5   \n",
      "4                   3                     4                           4   \n",
      "..                ...                   ...                         ...   \n",
      "69                  3                     4                           3   \n",
      "70                  4                     4                           5   \n",
      "71                  2                     3                           2   \n",
      "72                  3                     4                           3   \n",
      "73                  3                     2                           3   \n",
      "\n",
      "     OverallSatisfaction  \n",
      "0                    4.2  \n",
      "1                    2.8  \n",
      "2                    4.4  \n",
      "3                    4.4  \n",
      "4                    4.0  \n",
      "..                   ...  \n",
      "69                   3.2  \n",
      "70                   4.4  \n",
      "71                   2.4  \n",
      "72                   3.4  \n",
      "73                   2.8  \n",
      "\n",
      "[74 rows x 8 columns]\n"
     ]
    }
   ],
   "source": [
    "print(df)"
   ]
  },
  {
   "cell_type": "code",
   "execution_count": 11,
   "id": "f8db22fc",
   "metadata": {},
   "outputs": [
    {
     "name": "stdout",
     "output_type": "stream",
     "text": [
      "Correlation between Overall Satisfaction Scores and Readmission: Weak Correlation of 0.39127206231656714\n"
     ]
    }
   ],
   "source": [
    "X = df[' OverallSatisfaction'].values.reshape(-1, 1)\n",
    "Y = df[' Readmission']\n",
    "log_reg = LogisticRegression().fit(X, Y)\n",
    "correlation_coeff = log_reg.coef_[0][0]\n",
    "\n",
    "if correlation_coeff >= 0.7:\n",
    "    print(f'Correlation between Overall Satisfaction Scores and Readmission: Strong Correlation of {correlation_coeff}')\n",
    "else:\n",
    "    print(f'Correlation between Overall Satisfaction Scores and Readmission: Weak Correlation of {correlation_coeff}')"
   ]
  },
  {
   "cell_type": "code",
   "execution_count": 24,
   "id": "31ea9491",
   "metadata": {},
   "outputs": [
    {
     "data": {
      "image/png": "[encoded data removed]",
      "text/plain": [
       "<Figure size 640x480 with 1 Axes>"
      ]
     },
     "metadata": {},
     "output_type": "display_data"
    }
   ],
   "source": [
    "# log reg graph hospital 1\n",
    "plt.scatter(X, Y, color = 'red')\n",
    "plt.plot(X, log_reg.predict_proba(X)[:, 1], label = \"Pred Prob Line\", color = \"green\")\n",
    "plt.show()"
   ]
  },
  {
   "cell_type": "code",
   "execution_count": 14,
   "id": "ad5e57b0",
   "metadata": {},
   "outputs": [
    {
     "name": "stdout",
     "output_type": "stream",
     "text": [
      "PatientID, Readmission, StaffSatisfaction, CleanlinessSatisfaction, FoodSatisfaction, ComfortSatisfaction, CommunicationSatisfaction\n",
      "101, 1, 4, 5, 3, 4, 5\n",
      "102, 0, 3, 2, 4, 2, 3\n",
      "103, 1, 5, 4, 5, 4, 4\n",
      "104, 0, 5, 3, 5, 4, 5\n",
      "105, 1, 4, 5, 3, 4, 4\n",
      "106, 1, 2, 3, 2, 3, 3\n",
      "107, 0, 3, 2, 3, 4, 3\n",
      "108, 0, 5, 5, 4, 5, 5\n",
      "109, 1, 4, 4, 4, 4, 4\n",
      "110, 0, 3, 3, 3, 4, 3\n",
      "111, 1, 4, 5, 4, 4, 5\n",
      "112, 0, 2, 3, 2, 3, 2\n",
      "113, 1, 3, 4, 3, 4, 3\n",
      "114, 1, 3, 3, 3, 2, 3\n",
      "115, 0, 5, 4, 5, 5, 5\n",
      "116, 1, 4, 3, 4, 4, 4\n",
      "117, 0, 2, 2, 2, 3, 3\n",
      "118, 0, 5, 5, 4, 4, 5\n",
      "119, 1, 4, 4, 4, 4, 4\n",
      "120, 0, 3, 3, 3, 4, 3\n",
      "121, 1, 4, 5, 5, 4, 4\n",
      "122, 1, 3, 4, 4, 4, 3\n",
      "123, 0, 4, 3, 4, 3, 4\n",
      "124, 0, 2, 2, 2, 3, 3\n",
      "125, 1, 3, 4, 3, 4, 3\n",
      "126, 0, 4, 5, 5, 5, 5\n",
      "127, 1, 3, 4, 4, 4, 3\n",
      "128, 0, 4, 3, 4, 3, 4\n",
      "129, 0, 2, 2, 2, 3, 3\n",
      "130, 1, 3, 4, 3, 4, 3\n",
      "131, 1, 4, 5, 3, 4, 5\n",
      "132, 0, 3, 2, 4, 2, 3\n",
      "133, 1, 5, 4, 5, 4, 4\n",
      "134, 0, 5, 3, 5, 4, 5\n",
      "135, 1, 4, 5, 3, 4, 4\n",
      "136, 1, 2, 3, 2, 3, 3\n",
      "137, 0, 3, 2, 3, 4, 3\n",
      "138, 0, 5, 5, 4, 5, 5\n",
      "139, 1, 4, 4, 4, 4, 4\n",
      "140, 0, 3, 3, 3, 4, 3\n",
      "141, 1, 4, 5, 4, 4, 5\n",
      "142, 0, 2, 3, 2, 3, 2\n",
      "143, 1, 3, 4, 3, 4, 3\n",
      "144, 1, 3, 3, 3, 2, 3\n",
      "145, 0, 5, 4, 5, 5, 5\n",
      "146, 1, 4, 3, 4, 4, 4\n",
      "147, 0, 2, 2, 2, 3, 3\n",
      "148, 0, 5, 5, 4, 4, 5\n",
      "149, 1, 4, 4, 4, 4, 4\n",
      "150, 0, 3, 3, 3, 4, 3\n",
      "151, 1, 4, 5, 5, 4, 4\n",
      "152, 1, 3, 4, 4, 4, 3\n",
      "153, 0, 4, 3, 4, 3, 4\n",
      "154, 0, 2, 2, 2, 3, 3\n",
      "155, 1, 3, 4, 3, 4, 3\n",
      "156, 0, 4, 5, 5, 5, 5\n",
      "157, 1, 3, 4, 4, 4, 3\n"
     ]
    }
   ],
   "source": [
    "file_path2 = 'Hospital2.txt'\n",
    "\n",
    "try:\n",
    "    with open(file_path2, 'r') as file2:\n",
    "        content2 = file2.read()\n",
    "        print(content2)\n",
    "except FileNotFoundError:\n",
    "    print(f\"File '{file_path2}' not found.\")\n",
    "except IOError:\n",
    "    print(\"An error occured while reading the file.\")"
   ]
  },
  {
   "cell_type": "code",
   "execution_count": 15,
   "id": "b0a433ee",
   "metadata": {},
   "outputs": [
    {
     "name": "stdout",
     "output_type": "stream",
     "text": [
      "    PatientID   Readmission   StaffSatisfaction   CleanlinessSatisfaction  \\\n",
      "0         101             1                   4                         5   \n",
      "1         102             0                   3                         2   \n",
      "2         103             1                   5                         4   \n",
      "3         104             0                   5                         3   \n",
      "4         105             1                   4                         5   \n",
      "5         106             1                   2                         3   \n",
      "6         107             0                   3                         2   \n",
      "7         108             0                   5                         5   \n",
      "8         109             1                   4                         4   \n",
      "9         110             0                   3                         3   \n",
      "10        111             1                   4                         5   \n",
      "11        112             0                   2                         3   \n",
      "12        113             1                   3                         4   \n",
      "13        114             1                   3                         3   \n",
      "14        115             0                   5                         4   \n",
      "15        116             1                   4                         3   \n",
      "16        117             0                   2                         2   \n",
      "17        118             0                   5                         5   \n",
      "18        119             1                   4                         4   \n",
      "19        120             0                   3                         3   \n",
      "20        121             1                   4                         5   \n",
      "21        122             1                   3                         4   \n",
      "22        123             0                   4                         3   \n",
      "23        124             0                   2                         2   \n",
      "24        125             1                   3                         4   \n",
      "25        126             0                   4                         5   \n",
      "26        127             1                   3                         4   \n",
      "27        128             0                   4                         3   \n",
      "28        129             0                   2                         2   \n",
      "29        130             1                   3                         4   \n",
      "30        131             1                   4                         5   \n",
      "31        132             0                   3                         2   \n",
      "32        133             1                   5                         4   \n",
      "33        134             0                   5                         3   \n",
      "34        135             1                   4                         5   \n",
      "35        136             1                   2                         3   \n",
      "36        137             0                   3                         2   \n",
      "37        138             0                   5                         5   \n",
      "38        139             1                   4                         4   \n",
      "39        140             0                   3                         3   \n",
      "40        141             1                   4                         5   \n",
      "41        142             0                   2                         3   \n",
      "42        143             1                   3                         4   \n",
      "43        144             1                   3                         3   \n",
      "44        145             0                   5                         4   \n",
      "45        146             1                   4                         3   \n",
      "46        147             0                   2                         2   \n",
      "47        148             0                   5                         5   \n",
      "48        149             1                   4                         4   \n",
      "49        150             0                   3                         3   \n",
      "50        151             1                   4                         5   \n",
      "51        152             1                   3                         4   \n",
      "52        153             0                   4                         3   \n",
      "53        154             0                   2                         2   \n",
      "54        155             1                   3                         4   \n",
      "55        156             0                   4                         5   \n",
      "56        157             1                   3                         4   \n",
      "\n",
      "     FoodSatisfaction   ComfortSatisfaction   CommunicationSatisfaction  \n",
      "0                   3                     4                           5  \n",
      "1                   4                     2                           3  \n",
      "2                   5                     4                           4  \n",
      "3                   5                     4                           5  \n",
      "4                   3                     4                           4  \n",
      "5                   2                     3                           3  \n",
      "6                   3                     4                           3  \n",
      "7                   4                     5                           5  \n",
      "8                   4                     4                           4  \n",
      "9                   3                     4                           3  \n",
      "10                  4                     4                           5  \n",
      "11                  2                     3                           2  \n",
      "12                  3                     4                           3  \n",
      "13                  3                     2                           3  \n",
      "14                  5                     5                           5  \n",
      "15                  4                     4                           4  \n",
      "16                  2                     3                           3  \n",
      "17                  4                     4                           5  \n",
      "18                  4                     4                           4  \n",
      "19                  3                     4                           3  \n",
      "20                  5                     4                           4  \n",
      "21                  4                     4                           3  \n",
      "22                  4                     3                           4  \n",
      "23                  2                     3                           3  \n",
      "24                  3                     4                           3  \n",
      "25                  5                     5                           5  \n",
      "26                  4                     4                           3  \n",
      "27                  4                     3                           4  \n",
      "28                  2                     3                           3  \n",
      "29                  3                     4                           3  \n",
      "30                  3                     4                           5  \n",
      "31                  4                     2                           3  \n",
      "32                  5                     4                           4  \n",
      "33                  5                     4                           5  \n",
      "34                  3                     4                           4  \n",
      "35                  2                     3                           3  \n",
      "36                  3                     4                           3  \n",
      "37                  4                     5                           5  \n",
      "38                  4                     4                           4  \n",
      "39                  3                     4                           3  \n",
      "40                  4                     4                           5  \n",
      "41                  2                     3                           2  \n",
      "42                  3                     4                           3  \n",
      "43                  3                     2                           3  \n",
      "44                  5                     5                           5  \n",
      "45                  4                     4                           4  \n",
      "46                  2                     3                           3  \n",
      "47                  4                     4                           5  \n",
      "48                  4                     4                           4  \n",
      "49                  3                     4                           3  \n",
      "50                  5                     4                           4  \n",
      "51                  4                     4                           3  \n",
      "52                  4                     3                           4  \n",
      "53                  2                     3                           3  \n",
      "54                  3                     4                           3  \n",
      "55                  5                     5                           5  \n",
      "56                  4                     4                           3  \n"
     ]
    }
   ],
   "source": [
    "# average age of patients\n",
    "df2 = pd.read_csv(file_path2)\n",
    "print(df2)"
   ]
  },
  {
   "cell_type": "code",
   "execution_count": 16,
   "id": "96043bf7",
   "metadata": {},
   "outputs": [
    {
     "name": "stdout",
     "output_type": "stream",
     "text": [
      "Index(['PatientID', ' Readmission', ' StaffSatisfaction',\n",
      "       ' CleanlinessSatisfaction', ' FoodSatisfaction', ' ComfortSatisfaction',\n",
      "       ' CommunicationSatisfaction'],\n",
      "      dtype='object')\n"
     ]
    }
   ],
   "source": [
    "print(df2.columns)"
   ]
  },
  {
   "cell_type": "code",
   "execution_count": 17,
   "id": "5a15bbd2",
   "metadata": {},
   "outputs": [
    {
     "name": "stdout",
     "output_type": "stream",
     "text": [
      "Number of Patients Readmitted: 29\n",
      "Average Staff Satisfaction: 3.526315789473684\n",
      "Average Cleanliness Satisfaction: 3.6315789473684212\n",
      "Average Food Satisfaction: 3.56140350877193\n",
      "Average Comfort Satisfaction: 3.754385964912281\n",
      "Average Communication Satisfaction: 3.719298245614035\n"
     ]
    }
   ],
   "source": [
    "# number of patients readmitted\n",
    "num_pt_readmitted2 = (df2[' Readmission'] == 1).sum()\n",
    "print(f'Number of Patients Readmitted: {num_pt_readmitted2}')\n",
    "\n",
    "# average staff satisfaction\n",
    "avg_staff_satisfaction2 = df2[' StaffSatisfaction'].mean()\n",
    "print(f'Average Staff Satisfaction: {avg_staff_satisfaction2}')\n",
    "\n",
    "# average cleanliness satisfaction\n",
    "avg_clean_satisfaction2 = df2[' CleanlinessSatisfaction'].mean()\n",
    "print(f'Average Cleanliness Satisfaction: {avg_clean_satisfaction2}')\n",
    "\n",
    "# average food satisfaction\n",
    "avg_food_satisfaction2 = df2[' FoodSatisfaction'].mean()\n",
    "print(f'Average Food Satisfaction: {avg_food_satisfaction2}')\n",
    "\n",
    "# average comfort satisfaction\n",
    "avg_comfort_satisfaction2 = df2[' ComfortSatisfaction'].mean()\n",
    "print(f'Average Comfort Satisfaction: {avg_comfort_satisfaction2}')\n",
    "\n",
    "# average communication satisfaction\n",
    "avg_comm_satisfaction2 = df2[' CommunicationSatisfaction'].mean()\n",
    "print(f'Average Communication Satisfaction: {avg_comm_satisfaction2}')"
   ]
  },
  {
   "cell_type": "code",
   "execution_count": 19,
   "id": "a2c49735",
   "metadata": {},
   "outputs": [],
   "source": [
    "df2[' OverallSatisfaction'] = df2[[' StaffSatisfaction',' CleanlinessSatisfaction', ' FoodSatisfaction', ' ComfortSatisfaction',' CommunicationSatisfaction']].mean(axis=1)                                "
   ]
  },
  {
   "cell_type": "code",
   "execution_count": 20,
   "id": "9a5f2c66",
   "metadata": {},
   "outputs": [
    {
     "name": "stdout",
     "output_type": "stream",
     "text": [
      "    PatientID   Readmission   StaffSatisfaction   CleanlinessSatisfaction  \\\n",
      "0         101             1                   4                         5   \n",
      "1         102             0                   3                         2   \n",
      "2         103             1                   5                         4   \n",
      "3         104             0                   5                         3   \n",
      "4         105             1                   4                         5   \n",
      "5         106             1                   2                         3   \n",
      "6         107             0                   3                         2   \n",
      "7         108             0                   5                         5   \n",
      "8         109             1                   4                         4   \n",
      "9         110             0                   3                         3   \n",
      "10        111             1                   4                         5   \n",
      "11        112             0                   2                         3   \n",
      "12        113             1                   3                         4   \n",
      "13        114             1                   3                         3   \n",
      "14        115             0                   5                         4   \n",
      "15        116             1                   4                         3   \n",
      "16        117             0                   2                         2   \n",
      "17        118             0                   5                         5   \n",
      "18        119             1                   4                         4   \n",
      "19        120             0                   3                         3   \n",
      "20        121             1                   4                         5   \n",
      "21        122             1                   3                         4   \n",
      "22        123             0                   4                         3   \n",
      "23        124             0                   2                         2   \n",
      "24        125             1                   3                         4   \n",
      "25        126             0                   4                         5   \n",
      "26        127             1                   3                         4   \n",
      "27        128             0                   4                         3   \n",
      "28        129             0                   2                         2   \n",
      "29        130             1                   3                         4   \n",
      "30        131             1                   4                         5   \n",
      "31        132             0                   3                         2   \n",
      "32        133             1                   5                         4   \n",
      "33        134             0                   5                         3   \n",
      "34        135             1                   4                         5   \n",
      "35        136             1                   2                         3   \n",
      "36        137             0                   3                         2   \n",
      "37        138             0                   5                         5   \n",
      "38        139             1                   4                         4   \n",
      "39        140             0                   3                         3   \n",
      "40        141             1                   4                         5   \n",
      "41        142             0                   2                         3   \n",
      "42        143             1                   3                         4   \n",
      "43        144             1                   3                         3   \n",
      "44        145             0                   5                         4   \n",
      "45        146             1                   4                         3   \n",
      "46        147             0                   2                         2   \n",
      "47        148             0                   5                         5   \n",
      "48        149             1                   4                         4   \n",
      "49        150             0                   3                         3   \n",
      "50        151             1                   4                         5   \n",
      "51        152             1                   3                         4   \n",
      "52        153             0                   4                         3   \n",
      "53        154             0                   2                         2   \n",
      "54        155             1                   3                         4   \n",
      "55        156             0                   4                         5   \n",
      "56        157             1                   3                         4   \n",
      "\n",
      "     FoodSatisfaction   ComfortSatisfaction   CommunicationSatisfaction  \\\n",
      "0                   3                     4                           5   \n",
      "1                   4                     2                           3   \n",
      "2                   5                     4                           4   \n",
      "3                   5                     4                           5   \n",
      "4                   3                     4                           4   \n",
      "5                   2                     3                           3   \n",
      "6                   3                     4                           3   \n",
      "7                   4                     5                           5   \n",
      "8                   4                     4                           4   \n",
      "9                   3                     4                           3   \n",
      "10                  4                     4                           5   \n",
      "11                  2                     3                           2   \n",
      "12                  3                     4                           3   \n",
      "13                  3                     2                           3   \n",
      "14                  5                     5                           5   \n",
      "15                  4                     4                           4   \n",
      "16                  2                     3                           3   \n",
      "17                  4                     4                           5   \n",
      "18                  4                     4                           4   \n",
      "19                  3                     4                           3   \n",
      "20                  5                     4                           4   \n",
      "21                  4                     4                           3   \n",
      "22                  4                     3                           4   \n",
      "23                  2                     3                           3   \n",
      "24                  3                     4                           3   \n",
      "25                  5                     5                           5   \n",
      "26                  4                     4                           3   \n",
      "27                  4                     3                           4   \n",
      "28                  2                     3                           3   \n",
      "29                  3                     4                           3   \n",
      "30                  3                     4                           5   \n",
      "31                  4                     2                           3   \n",
      "32                  5                     4                           4   \n",
      "33                  5                     4                           5   \n",
      "34                  3                     4                           4   \n",
      "35                  2                     3                           3   \n",
      "36                  3                     4                           3   \n",
      "37                  4                     5                           5   \n",
      "38                  4                     4                           4   \n",
      "39                  3                     4                           3   \n",
      "40                  4                     4                           5   \n",
      "41                  2                     3                           2   \n",
      "42                  3                     4                           3   \n",
      "43                  3                     2                           3   \n",
      "44                  5                     5                           5   \n",
      "45                  4                     4                           4   \n",
      "46                  2                     3                           3   \n",
      "47                  4                     4                           5   \n",
      "48                  4                     4                           4   \n",
      "49                  3                     4                           3   \n",
      "50                  5                     4                           4   \n",
      "51                  4                     4                           3   \n",
      "52                  4                     3                           4   \n",
      "53                  2                     3                           3   \n",
      "54                  3                     4                           3   \n",
      "55                  5                     5                           5   \n",
      "56                  4                     4                           3   \n",
      "\n",
      "     OverallSatisfaction  \n",
      "0                    4.2  \n",
      "1                    2.8  \n",
      "2                    4.4  \n",
      "3                    4.4  \n",
      "4                    4.0  \n",
      "5                    2.6  \n",
      "6                    3.0  \n",
      "7                    4.8  \n",
      "8                    4.0  \n",
      "9                    3.2  \n",
      "10                   4.4  \n",
      "11                   2.4  \n",
      "12                   3.4  \n",
      "13                   2.8  \n",
      "14                   4.8  \n",
      "15                   3.8  \n",
      "16                   2.4  \n",
      "17                   4.6  \n",
      "18                   4.0  \n",
      "19                   3.2  \n",
      "20                   4.4  \n",
      "21                   3.6  \n",
      "22                   3.6  \n",
      "23                   2.4  \n",
      "24                   3.4  \n",
      "25                   4.8  \n",
      "26                   3.6  \n",
      "27                   3.6  \n",
      "28                   2.4  \n",
      "29                   3.4  \n",
      "30                   4.2  \n",
      "31                   2.8  \n",
      "32                   4.4  \n",
      "33                   4.4  \n",
      "34                   4.0  \n",
      "35                   2.6  \n",
      "36                   3.0  \n",
      "37                   4.8  \n",
      "38                   4.0  \n",
      "39                   3.2  \n",
      "40                   4.4  \n",
      "41                   2.4  \n",
      "42                   3.4  \n",
      "43                   2.8  \n",
      "44                   4.8  \n",
      "45                   3.8  \n",
      "46                   2.4  \n",
      "47                   4.6  \n",
      "48                   4.0  \n",
      "49                   3.2  \n",
      "50                   4.4  \n",
      "51                   3.6  \n",
      "52                   3.6  \n",
      "53                   2.4  \n",
      "54                   3.4  \n",
      "55                   4.8  \n",
      "56                   3.6  \n"
     ]
    }
   ],
   "source": [
    "print(df2)"
   ]
  },
  {
   "cell_type": "code",
   "execution_count": 21,
   "id": "460380dd",
   "metadata": {},
   "outputs": [
    {
     "name": "stdout",
     "output_type": "stream",
     "text": [
      "Correlation between Overall Satisfaction Scores and Readmission: Weak Correlation of 0.33034401828974636\n"
     ]
    }
   ],
   "source": [
    "X2 = df2[' OverallSatisfaction'].values.reshape(-1, 1)\n",
    "Y2 = df2[' Readmission']\n",
    "log_reg2 = LogisticRegression().fit(X2, Y2)\n",
    "correlation_coeff2 = log_reg2.coef_[0][0]\n",
    "\n",
    "if correlation_coeff2 >= 0.7:\n",
    "    print(f'Correlation between Overall Satisfaction Scores and Readmission: Strong Correlation of {correlation_coeff2}')\n",
    "else:\n",
    "    print(f'Correlation between Overall Satisfaction Scores and Readmission: Weak Correlation of {correlation_coeff2}')"
   ]
  },
  {
   "cell_type": "code",
   "execution_count": 23,
   "id": "40832802",
   "metadata": {},
   "outputs": [
    {
     "data": {
      "image/png": "[encoded data removed]",
      "text/plain": [
       "<Figure size 640x480 with 1 Axes>"
      ]
     },
     "metadata": {},
     "output_type": "display_data"
    }
   ],
   "source": [
    "# log reg graph hospital 2\n",
    "plt.scatter(X2, Y2, color = 'red')\n",
    "plt.plot(X2, log_reg2.predict_proba(X2)[:, 1], label = \"Pred Prob Line\", color = \"green\")\n",
    "plt.show()"
   ]
  },
  {
   "cell_type": "code",
   "execution_count": 26,
   "id": "a22d80d7",
   "metadata": {},
   "outputs": [
    {
     "name": "stdout",
     "output_type": "stream",
     "text": [
      "Hospital 1 has a higher correlation of overall satisfaction and readmission.\n",
      "Hospital 1 readmits more patients than Hospital 2.\n",
      "In comparing the averages for each of the hospital's satisfaction scores, Hospital 2 has better averages for each satisfaction category than Hospital 1.\n"
     ]
    }
   ],
   "source": [
    "print('''Hospital 1 has a higher correlation of overall satisfaction and readmission.\n",
    "Hospital 1 readmits more patients than Hospital 2.\n",
    "In comparing the averages for each of the hospital's satisfaction scores, Hospital 2 has better averages for each satisfaction category than Hospital 1.''')"
   ]
  },
  {
   "cell_type": "code",
   "execution_count": null,
   "id": "a256d3c1",
   "metadata": {},
   "outputs": [],
   "source": []
  }
 ],
 "metadata": {
  "kernelspec": {
   "display_name": "Python 3 (ipykernel)",
   "language": "python",
   "name": "python3"
  },
  "language_info": {
   "codemirror_mode": {
    "name": "ipython",
    "version": 3
   },
   "file_extension": ".py",
   "mimetype": "text/x-python",
   "name": "python",
   "nbconvert_exporter": "python",
   "pygments_lexer": "ipython3",
   "version": "3.10.9"
  }
 },
 "nbformat": 4,
 "nbformat_minor": 5
}
